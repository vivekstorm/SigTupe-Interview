{
 "cells": [
  {
   "cell_type": "markdown",
   "metadata": {},
   "source": [
    "1. n bubbles are arranged in a row, and each bubble contains a dollar of certain denomination \n",
    "inside it. When a user bursts a bubble at position j the user is rewarded with denom[j-1] * \n",
    "denom[j] * denom[j+1] dollars, where denom[j] represents the denomination value of the dollar \n",
    "inside jth  bubble. On bursting the bubble at position j, bubbles at position j-1 and j+1 become \n",
    "neighbours. The task is to burst all the bubbles. If a bubble that is burst has no neighbors left, \n",
    "then the denomination of the dollar in that bubble is rewarded. If there is only one neighbour left \n",
    "then the product of the denominations of dollars in the two bubbles is rewarded. \n",
    "\n",
    " Write a program to compute the maximum reward one can achieve by bursting all the bubbles. "
   ]
  },
  {
   "cell_type": "markdown",
   "metadata": {},
   "source": [
    "Getting input from the text file and converting to int list"
   ]
  },
  {
   "cell_type": "code",
   "execution_count": 73,
   "metadata": {
    "collapsed": true
   },
   "outputs": [],
   "source": [
    "def getinput():\n",
    "    try:\n",
    "        #file = open('input.txt','r') \n",
    "        ip=[]\n",
    "        with open('input.txt', 'r') as f:\n",
    "            ip = [line.strip().split(',') for line in f]\n",
    "            ip=sum(ip, [])\n",
    "            ip=list(map(int,ip))\n",
    "        return ip\n",
    "    except:\n",
    "        print('Error occured in reading file')"
   ]
  },
  {
   "cell_type": "markdown",
   "metadata": {},
   "source": [
    "Computing MAX Reward "
   ]
  },
  {
   "cell_type": "code",
   "execution_count": 74,
   "metadata": {},
   "outputs": [],
   "source": [
    "def maxreward(n):\n",
    "    n=[1]+n+[1]\n",
    "    prize = [[0]*len(n) for _ in range(len(n))]\n",
    "    for i in range(len(n) - 2, 0, -1):\n",
    "        for j in range(i, len(n) - 1):\n",
    "            for k in range(i, j+1):\n",
    "                prize[i][j] = max(prize[i][j], prize[i][k-1] + prize[k+1][j] + n[i-1] * n[k] * n[j+1])\n",
    "    return prize[1][len(n)-2]"
   ]
  },
  {
   "cell_type": "markdown",
   "metadata": {},
   "source": [
    "Driver Function"
   ]
  },
  {
   "cell_type": "code",
   "execution_count": 75,
   "metadata": {},
   "outputs": [
    {
     "data": {
      "text/plain": [
       "280"
      ]
     },
     "execution_count": 75,
     "metadata": {},
     "output_type": "execute_result"
    }
   ],
   "source": [
    "inputlist=getinput()\n",
    "maxreward(inputlist)"
   ]
  },
  {
   "cell_type": "code",
   "execution_count": null,
   "metadata": {},
   "outputs": [],
   "source": []
  },
  {
   "cell_type": "code",
   "execution_count": null,
   "metadata": {},
   "outputs": [],
   "source": [
    " "
   ]
  },
  {
   "cell_type": "code",
   "execution_count": null,
   "metadata": {},
   "outputs": [],
   "source": []
  },
  {
   "cell_type": "code",
   "execution_count": null,
   "metadata": {},
   "outputs": [],
   "source": []
  },
  {
   "cell_type": "code",
   "execution_count": null,
   "metadata": {
    "collapsed": true
   },
   "outputs": [],
   "source": [
    "\n"
   ]
  }
 ],
 "metadata": {
  "kernelspec": {
   "display_name": "Python 3",
   "language": "python",
   "name": "python3"
  },
  "language_info": {
   "codemirror_mode": {
    "name": "ipython",
    "version": 3
   },
   "file_extension": ".py",
   "mimetype": "text/x-python",
   "name": "python",
   "nbconvert_exporter": "python",
   "pygments_lexer": "ipython3",
   "version": "3.6.1"
  }
 },
 "nbformat": 4,
 "nbformat_minor": 2
}
