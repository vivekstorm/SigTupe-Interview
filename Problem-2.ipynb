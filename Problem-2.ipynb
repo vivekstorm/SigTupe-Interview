{
 "cells": [
  {
   "cell_type": "markdown",
   "metadata": {},
   "source": [
    "You are given N integers. You have to select two integers from these N such that there is \n",
    "another integer which is equal to the sum of two integers which you have selected. \n",
    "You have to tell the number of ways in which you can select such two integers. "
   ]
  },
  {
   "cell_type": "code",
   "execution_count": 1,
   "metadata": {},
   "outputs": [
    {
     "name": "stdout",
     "output_type": "stream",
     "text": [
      "Enter the number of elements5\n",
      "1 2 3 4 5\n"
     ]
    }
   ],
   "source": []
  },
  {
   "cell_type": "code",
   "execution_count": 3,
   "metadata": {},
   "outputs": [],
   "source": [
    "def numberofways(a):\n",
    "    count=0\n",
    "    a.sort()\n",
    "    i=len(a)-1\n",
    "    while(i>-1):\n",
    "        j=0\n",
    "        k=i-1\n",
    "        while(j<k):\n",
    "            if(a[i]==a[j]+a[k]):\n",
    "                j=j+1\n",
    "                count=count+1\n",
    "            elif(a[i]>a[j]+a[k]):\n",
    "                j=j+1\n",
    "            else:\n",
    "                k=k-1\n",
    "        i=i-1\n",
    "    return count\n",
    "        "
   ]
  },
  {
   "cell_type": "code",
   "execution_count": 4,
   "metadata": {},
   "outputs": [
    {
     "name": "stdout",
     "output_type": "stream",
     "text": [
      "Enter the number of elements5\n",
      "1 2 3 4 5\n"
     ]
    },
    {
     "data": {
      "text/plain": [
       "4"
      ]
     },
     "execution_count": 4,
     "metadata": {},
     "output_type": "execute_result"
    }
   ],
   "source": [
    "N=int(input('Enter the number of elements'))\n",
    "a = [int(x) for x in input().split()]\n",
    "numberofways(a)"
   ]
  },
  {
   "cell_type": "code",
   "execution_count": null,
   "metadata": {
    "collapsed": true
   },
   "outputs": [],
   "source": []
  }
 ],
 "metadata": {
  "kernelspec": {
   "display_name": "Python 3",
   "language": "python",
   "name": "python3"
  },
  "language_info": {
   "codemirror_mode": {
    "name": "ipython",
    "version": 3
   },
   "file_extension": ".py",
   "mimetype": "text/x-python",
   "name": "python",
   "nbconvert_exporter": "python",
   "pygments_lexer": "ipython3",
   "version": "3.6.1"
  }
 },
 "nbformat": 4,
 "nbformat_minor": 2
}
